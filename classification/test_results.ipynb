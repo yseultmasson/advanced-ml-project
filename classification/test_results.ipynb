{
 "cells": [
  {
   "cell_type": "code",
   "execution_count": null,
   "metadata": {},
   "outputs": [],
   "source": [
    "import pandas as pd\n",
    "import numpy as np\n",
    "import matplotlib.pyplot as plt\n",
    "import tensorflow as tf\n",
    "from keras.optimizers import Adam\n",
    "\n",
    "from classification import preprocessing, custom_vgg16"
   ]
  },
  {
   "cell_type": "markdown",
   "metadata": {},
   "source": [
    "# Test scores"
   ]
  },
  {
   "cell_type": "code",
   "execution_count": null,
   "metadata": {},
   "outputs": [],
   "source": [
    "# Import test set\n",
    "test_dir = 'data/test_set/'\n",
    "test_ds = tf.keras.utils.image_dataset_from_directory(\n",
    "    test_dir,\n",
    "    seed=123,\n",
    "    image_size=(180, 180),\n",
    "    batch_size=32,\n",
    "    label_mode=\"categorical\")"
   ]
  },
  {
   "cell_type": "code",
   "execution_count": null,
   "metadata": {},
   "outputs": [],
   "source": [
    "# Preprocess test set\n",
    "test_ds = preprocessing(test_ds)"
   ]
  },
  {
   "cell_type": "code",
   "execution_count": null,
   "metadata": {},
   "outputs": [],
   "source": [
    "# Evaluate all models on the train set\n",
    "\n",
    "test_scores = pd.DataFrame(index=['accuracy', 'loss'])\n",
    "\n",
    "for aug in ['no_aug', 'flip', 'mosaic', 'tapestry', 'starry_night', 'starry_night_flip', 'starry_night_tapestry']:\n",
    "    weights_path = f'checkpoints/{aug}/second_training.ckpt'\n",
    "\n",
    "    model = custom_vgg16(180, 180, 101)\n",
    "    model.load_weights(weights_path)\n",
    "    model.compile(optimizer=Adam(learning_rate=0.00001), loss='categorical_crossentropy', metrics=['accuracy'])\n",
    "    loss, acc = model.evaluate(test_ds, verbose=1)\n",
    "    test_scores[aug] = [acc, loss]"
   ]
  },
  {
   "cell_type": "code",
   "execution_count": null,
   "metadata": {},
   "outputs": [],
   "source": [
    "# Save the test results\n",
    "test_scores.to_csv('classification_results/test_scores.csv', index=True)"
   ]
  },
  {
   "cell_type": "markdown",
   "metadata": {},
   "source": [
    "# Training and validation error"
   ]
  },
  {
   "cell_type": "code",
   "execution_count": null,
   "metadata": {},
   "outputs": [],
   "source": [
    "# Create a dataframe with the final train and validation accuracies and losses for each model\n",
    "train_val_scores = pd.DataFrame(index=['Train accuracy', 'Train loss', 'Validation accuracy', 'Validation loss'])\n",
    "\n",
    "for aug in ['no_aug', 'flip', 'mosaic', 'tapestry', 'starry_night', 'starry_night_flip', 'starry_night_tapestry']:\n",
    "    history = pd.read_csv(f'histories/model_history_{aug}.csv')\n",
    "\n",
    "    best_epoch = history['val_accuracy'].idxmax()\n",
    "    train_val_scores.loc[['Train accuracy', 'Train loss', 'Validation accuracy', 'Validation loss'], aug] = history.loc[best_epoch].drop('epoch').to_numpy()\n"
   ]
  },
  {
   "cell_type": "code",
   "execution_count": null,
   "metadata": {},
   "outputs": [],
   "source": [
    "# Import test losses and accuracies (computed in the previous part)\n",
    "test_scores = pd.read_csv('classification_results/test_scores.csv', index_col=0)"
   ]
  },
  {
   "cell_type": "code",
   "execution_count": null,
   "metadata": {},
   "outputs": [],
   "source": [
    "# Merge train, validation and test results\n",
    "scores = (pd.concat([train_val_scores, test_scores])\n",
    "          .rename(index={'accuracy': 'Test', 'loss': 'Test loss', 'Train accuracy': 'Train', 'Validation accuracy': 'Validation'},\n",
    "                  columns={'no_aug': 'No augmentation', 'flip': 'Flip', 'tapestry': 'Tapestry', 'mosaic': 'Mosaic', 'starry_night': 'Starry night', 'starry_night_flip': 'Starry night + Flip', 'starry_night_tapestry': 'Starry night + Tapestry'})\n",
    "          .loc[['Train', 'Validation', 'Test']]\n",
    "          )"
   ]
  },
  {
   "cell_type": "code",
   "execution_count": null,
   "metadata": {},
   "outputs": [],
   "source": [
    "# Plot accuracies\n",
    "\n",
    "fig, ax = plt.subplots()\n",
    "scores.plot.bar(cmap='Set2', ax=ax)\n",
    "\n",
    "ax.set_ylim(0.9, 1)\n",
    "ax.tick_params('x', labelrotation=0)\n",
    "ax.set_ylabel('Accuracy')\n",
    "ax.grid(axis='y', linestyle='--', which='major', color='gray', linewidth=0.5, alpha=0.7)\n",
    "ax.set_yticks(np.arange(0.9, 1.01, 0.01))\n",
    "\n",
    "plt.savefig('plots/accuracies.png')\n",
    "\n",
    "plt.show()"
   ]
  }
 ],
 "metadata": {
  "kernelspec": {
   "display_name": "advanced-ml-project",
   "language": "python",
   "name": "python3"
  },
  "language_info": {
   "codemirror_mode": {
    "name": "ipython",
    "version": 3
   },
   "file_extension": ".py",
   "mimetype": "text/x-python",
   "name": "python",
   "nbconvert_exporter": "python",
   "pygments_lexer": "ipython3",
   "version": "3.10.13"
  }
 },
 "nbformat": 4,
 "nbformat_minor": 2
}
